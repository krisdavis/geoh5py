{
 "cells": [
  {
   "cell_type": "markdown",
   "id": "df56059d",
   "metadata": {},
   "source": [
    "## Data\n",
    "\n",
    "The `geoh5` format allows storing data (values) on different parts of an ``Object``. The `data_association` can be one of:\n",
    "\n",
    "- OBJECT: Single element characterizing the parent object\n",
    "- VERTEX: Array of values associated with the parent object vertices\n",
    "- CELL: Array of values associated with the parent object cells \n",
    "\n",
    "Note: The length and order of the array provided must be consistent with the corresponding element of association.  \n",
    "\n",
    "The data types supported by `geoh5py` are:\n",
    "\n",
    "- Arrays\n",
    "- Integer\n",
    "- Text\n",
    "- Color_map\n",
    "\n",
    "![data](./images/data.png)"
   ]
  },
  {
   "cell_type": "markdown",
   "id": "f89cbc8b",
   "metadata": {},
   "source": [
    "### Add data\n",
    "\n",
    "Data can be added to an `Object` entity using the `add_data` method."
   ]
  },
  {
   "cell_type": "code",
   "execution_count": null,
   "id": "98459f03",
   "metadata": {},
   "outputs": [],
   "source": [
    "import numpy as np\n",
    "\n",
    "from geoh5py.objects import Curve\n",
    "from geoh5py.workspace import Workspace\n",
    "\n",
    "\n",
    "workspace = Workspace(\"my_project.geoh5\")\n",
    "\n",
    "# Create a straight Curve object\n",
    "curve = Curve.create(\n",
    "    workspace,       # The target Workspace\n",
    "    name='FlightLine3',\n",
    "    vertices=np.c_[np.linspace(0, 100, 100), np.zeros(100), np.zeros(100)]\n",
    ")\n",
    "\n",
    "# Add a single string comment\n",
    "curve.add_data({\n",
    "    \"my_comment\": {\n",
    "        \"association\":\"OBJECT\", \n",
    "        \"values\": \"hello_world\"\n",
    "    }\n",
    "})\n",
    "\n",
    "# Add a vector of floats\n",
    "curve.add_data({\n",
    "    \"my_cell_values\": {\n",
    "        \"association\":\"CELL\", \n",
    "        \"values\": np.random.randn(curve.n_cells)\n",
    "    }\n",
    "})\n",
    "\n",
    "# Add multiple data vectors on a single call\n",
    "data = {}\n",
    "for ii in range(8):\n",
    "    data[f\"Period:{ii}\"] = {\n",
    "        \"association\":\"VERTEX\", \n",
    "        \"values\": (ii+1) * np.cos(ii*curve.vertices[:, 0]*np.pi/curve.vertices[:, 0].max()/4.)\n",
    "    }\n",
    "\n",
    "data_list = curve.add_data(data)\n",
    "print([obj.name for obj in data_list])"
   ]
  },
  {
   "cell_type": "markdown",
   "id": "0624e4db",
   "metadata": {},
   "source": [
    "If the `association` argument is omited, `geoh5py` will attempt to assign the data to the correct part based on the shape of the data values, either `object.n_values` or `object.n_cells`\n",
    "\n",
    "The newly created data is directly added to the project's `geoh5` file and available for visualization:\n",
    "\n",
    "![adddata](./images/adddata.png)"
   ]
  },
  {
   "cell_type": "markdown",
   "id": "bb529fd1",
   "metadata": {},
   "source": [
    "### Get data\n",
    "Just like any `Entity`, data can be retrieved from the `Workspace` using the `get_entity` method. For convenience, `Objects` also have a `get_data_list` and `get_data` method that focusses only on their respective children `Data`."
   ]
  },
  {
   "cell_type": "code",
   "execution_count": null,
   "id": "932a601c",
   "metadata": {},
   "outputs": [],
   "source": [
    "my_list = curve.get_data_list()\n",
    "print(my_list, curve.get_data(my_list[0]))"
   ]
  },
  {
   "cell_type": "markdown",
   "id": "32d24577",
   "metadata": {},
   "source": [
    "### Property Groups\n",
    "\n",
    "`Data` entities sharing the same parent `Object` and `association` can be linked within a `property_groups` and made available through profiling. This can be used to group data that would normally be stored as 2D array."
   ]
  },
  {
   "cell_type": "code",
   "execution_count": null,
   "id": "fccebbf1",
   "metadata": {},
   "outputs": [],
   "source": [
    "# Add another VERTEX data and create a group with previous\n",
    "curve.add_data_to_group([obj.name for obj in data_list], \"my_trig_group\")"
   ]
  },
  {
   "cell_type": "markdown",
   "id": "42f46758",
   "metadata": {},
   "source": [
    "![propgroups](./images/propgroups.png)"
   ]
  }
 ],
 "metadata": {
  "kernelspec": {
   "display_name": "Python 3",
   "language": "python",
   "name": "python3"
  },
  "language_info": {
   "codemirror_mode": {
    "name": "ipython",
    "version": 3
   },
   "file_extension": ".py",
   "mimetype": "text/x-python",
   "name": "python",
   "nbconvert_exporter": "python",
   "pygments_lexer": "ipython3",
   "version": "3.8.5"
  }
 },
 "nbformat": 4,
 "nbformat_minor": 5
}
